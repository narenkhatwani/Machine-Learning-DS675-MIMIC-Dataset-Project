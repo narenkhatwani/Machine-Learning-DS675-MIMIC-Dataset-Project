{
  "nbformat": 4,
  "nbformat_minor": 0,
  "metadata": {
    "colab": {
      "provenance": []
    },
    "kernelspec": {
      "name": "python3",
      "display_name": "Python 3"
    },
    "language_info": {
      "name": "python"
    }
  },
  "cells": [
    {
      "cell_type": "code",
      "source": [
        "import os\n",
        "import gzip\n",
        "import shutil\n",
        "\n",
        "# Define source and target directories\n",
        "source_folder = \"hosp\"  # Replace with your source folder path\n",
        "target_folder = \"hospunzipped\"  # Replace with your target folder path\n",
        "\n",
        "# Ensure the target folder exists\n",
        "os.makedirs(target_folder, exist_ok=True)\n",
        "\n",
        "# Iterate over all files in the source folder\n",
        "for file_name in os.listdir(source_folder):\n",
        "    # Check if the file has a .csv.gz extension\n",
        "    if file_name.endswith(\".csv.gz\"):\n",
        "        source_file_path = os.path.join(source_folder, file_name)\n",
        "        target_file_name = file_name[:-3]  # Remove the .gz extension\n",
        "        target_file_path = os.path.join(target_folder, target_file_name)\n",
        "\n",
        "        # Extract the .gz file\n",
        "        with gzip.open(source_file_path, 'rb') as gz_file:\n",
        "            with open(target_file_path, 'wb') as out_file:\n",
        "                shutil.copyfileobj(gz_file, out_file)\n",
        "\n",
        "        print(f\"Extracted: {source_file_path} to {target_file_path}\")\n",
        "\n",
        "print(\"All .csv.gz files have been extracted.\")\n"
      ],
      "metadata": {
        "id": "-5orEHNqa7JQ"
      },
      "execution_count": null,
      "outputs": []
    },
    {
      "cell_type": "code",
      "source": [
        "from google.colab import files\n",
        "import shutil\n",
        "\n",
        "# Define the folder to download\n",
        "zip_file_name = \"hospunzipped.zip\"  # Name for the zipped file\n",
        "\n",
        "# Zip the folder\n",
        "shutil.make_archive(zip_file_name.replace('.zip', ''), 'zip', target_folder)\n",
        "\n",
        "# Download the zipped folder\n",
        "files.download(zip_file_name)\n"
      ],
      "metadata": {
        "id": "YjNizEXAa8Zu"
      },
      "execution_count": null,
      "outputs": []
    },
    {
      "cell_type": "code",
      "execution_count": 4,
      "metadata": {
        "colab": {
          "base_uri": "https://localhost:8080/"
        },
        "id": "GpS1PlM0ZGbY",
        "outputId": "36cb6617-f35e-47df-b033-763a6bd49407"
      },
      "outputs": [
        {
          "output_type": "stream",
          "name": "stdout",
          "text": [
            "Extracted: icu/inputevents.csv.gz to icuunzipped/inputevents.csv\n",
            "Extracted: icu/outputevents.csv.gz to icuunzipped/outputevents.csv\n",
            "Extracted: icu/datetimeevents.csv.gz to icuunzipped/datetimeevents.csv\n",
            "Extracted: icu/procedureevents.csv.gz to icuunzipped/procedureevents.csv\n",
            "Extracted: icu/d_items.csv.gz to icuunzipped/d_items.csv\n",
            "Extracted: icu/icustays.csv.gz to icuunzipped/icustays.csv\n",
            "Extracted: icu/chartevents.csv.gz to icuunzipped/chartevents.csv\n",
            "Extracted: icu/caregiver.csv.gz to icuunzipped/caregiver.csv\n",
            "Extracted: icu/ingredientevents.csv.gz to icuunzipped/ingredientevents.csv\n",
            "All .csv.gz files have been extracted.\n"
          ]
        }
      ],
      "source": [
        "import os\n",
        "import gzip\n",
        "import shutil\n",
        "\n",
        "# Define source and target directories\n",
        "source_folder = \"icu\"  # Replace with your source folder path\n",
        "target_folder = \"icuunzipped\"  # Replace with your target folder path\n",
        "\n",
        "# Ensure the target folder exists\n",
        "os.makedirs(target_folder, exist_ok=True)\n",
        "\n",
        "# Iterate over all files in the source folder\n",
        "for file_name in os.listdir(source_folder):\n",
        "    # Check if the file has a .csv.gz extension\n",
        "    if file_name.endswith(\".csv.gz\"):\n",
        "        source_file_path = os.path.join(source_folder, file_name)\n",
        "        target_file_name = file_name[:-3]  # Remove the .gz extension\n",
        "        target_file_path = os.path.join(target_folder, target_file_name)\n",
        "\n",
        "        # Extract the .gz file\n",
        "        with gzip.open(source_file_path, 'rb') as gz_file:\n",
        "            with open(target_file_path, 'wb') as out_file:\n",
        "                shutil.copyfileobj(gz_file, out_file)\n",
        "\n",
        "        print(f\"Extracted: {source_file_path} to {target_file_path}\")\n",
        "\n",
        "print(\"All .csv.gz files have been extracted.\")\n"
      ]
    },
    {
      "cell_type": "code",
      "source": [
        "from google.colab import files\n",
        "import shutil\n",
        "\n",
        "# Define the folder to download\n",
        "zip_file_name = \"icuunzipped.zip\"  # Name for the zipped file\n",
        "\n",
        "# Zip the folder\n",
        "shutil.make_archive(zip_file_name.replace('.zip', ''), 'zip', target_folder)\n",
        "\n",
        "# Download the zipped folder\n",
        "files.download(zip_file_name)\n"
      ],
      "metadata": {
        "colab": {
          "base_uri": "https://localhost:8080/",
          "height": 17
        },
        "id": "3hTzRknwZtIR",
        "outputId": "bce41e02-2cb5-4fb0-da2d-28d8c6e7c3a5"
      },
      "execution_count": 5,
      "outputs": [
        {
          "output_type": "display_data",
          "data": {
            "text/plain": [
              "<IPython.core.display.Javascript object>"
            ],
            "application/javascript": [
              "\n",
              "    async function download(id, filename, size) {\n",
              "      if (!google.colab.kernel.accessAllowed) {\n",
              "        return;\n",
              "      }\n",
              "      const div = document.createElement('div');\n",
              "      const label = document.createElement('label');\n",
              "      label.textContent = `Downloading \"${filename}\": `;\n",
              "      div.appendChild(label);\n",
              "      const progress = document.createElement('progress');\n",
              "      progress.max = size;\n",
              "      div.appendChild(progress);\n",
              "      document.body.appendChild(div);\n",
              "\n",
              "      const buffers = [];\n",
              "      let downloaded = 0;\n",
              "\n",
              "      const channel = await google.colab.kernel.comms.open(id);\n",
              "      // Send a message to notify the kernel that we're ready.\n",
              "      channel.send({})\n",
              "\n",
              "      for await (const message of channel.messages) {\n",
              "        // Send a message to notify the kernel that we're ready.\n",
              "        channel.send({})\n",
              "        if (message.buffers) {\n",
              "          for (const buffer of message.buffers) {\n",
              "            buffers.push(buffer);\n",
              "            downloaded += buffer.byteLength;\n",
              "            progress.value = downloaded;\n",
              "          }\n",
              "        }\n",
              "      }\n",
              "      const blob = new Blob(buffers, {type: 'application/binary'});\n",
              "      const a = document.createElement('a');\n",
              "      a.href = window.URL.createObjectURL(blob);\n",
              "      a.download = filename;\n",
              "      div.appendChild(a);\n",
              "      a.click();\n",
              "      div.remove();\n",
              "    }\n",
              "  "
            ]
          },
          "metadata": {}
        },
        {
          "output_type": "display_data",
          "data": {
            "text/plain": [
              "<IPython.core.display.Javascript object>"
            ],
            "application/javascript": [
              "download(\"download_46bf3f7c-43d2-4503-aa19-cef8ca3450e4\", \"icuunzipped.zip\", 7307827)"
            ]
          },
          "metadata": {}
        }
      ]
    }
  ]
}